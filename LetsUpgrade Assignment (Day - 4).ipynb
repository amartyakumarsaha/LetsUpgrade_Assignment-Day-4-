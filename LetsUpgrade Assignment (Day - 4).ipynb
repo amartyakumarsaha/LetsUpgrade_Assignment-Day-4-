{
 "cells": [
  {
   "cell_type": "markdown",
   "metadata": {},
   "source": [
    "# Write down a program in Python for Opening a File and Writing \" I Love LetsUpgrade\" And close it, and read it back again, and then append some data to it and close it."
   ]
  },
  {
   "cell_type": "code",
   "execution_count": 1,
   "metadata": {},
   "outputs": [],
   "source": [
    "file= open(\"LetsUpgrade.txt\",'w')\n",
    "\n",
    "file.write('I Love LetsUpgrade.')\n",
    "\n",
    "file.close()"
   ]
  },
  {
   "cell_type": "code",
   "execution_count": 2,
   "metadata": {},
   "outputs": [],
   "source": [
    "file = open(\"LetsUpgrade.txt\",'a')\n",
    "\n",
    "file.write('I exceited to do projects.')\n",
    "\n",
    "file.close()"
   ]
  },
  {
   "cell_type": "markdown",
   "metadata": {},
   "source": [
    "# Write a function which can return a Factorial of any numbers as INT, given in the argument."
   ]
  },
  {
   "cell_type": "code",
   "execution_count": 3,
   "metadata": {},
   "outputs": [
    {
     "name": "stdout",
     "output_type": "stream",
     "text": [
      "Enter a number :5\n",
      "Factorial of is 120\n"
     ]
    }
   ],
   "source": [
    "num=int(input('Enter a number :'))\n",
    "\n",
    "def factorial(n):\n",
    "    fact=1\n",
    "    while(n>0):\n",
    "        fact=fact*n\n",
    "        n-=1\n",
    "        \n",
    "    return fact\n",
    "\n",
    "result=factorial(num)\n",
    "print('Factorial of is %d'%result)\n",
    "        "
   ]
  },
  {
   "cell_type": "code",
   "execution_count": null,
   "metadata": {},
   "outputs": [],
   "source": []
  },
  {
   "cell_type": "code",
   "execution_count": null,
   "metadata": {},
   "outputs": [],
   "source": []
  }
 ],
 "metadata": {
  "kernelspec": {
   "display_name": "Python 3",
   "language": "python",
   "name": "python3"
  },
  "language_info": {
   "codemirror_mode": {
    "name": "ipython",
    "version": 3
   },
   "file_extension": ".py",
   "mimetype": "text/x-python",
   "name": "python",
   "nbconvert_exporter": "python",
   "pygments_lexer": "ipython3",
   "version": "3.8.5"
  }
 },
 "nbformat": 4,
 "nbformat_minor": 4
}
